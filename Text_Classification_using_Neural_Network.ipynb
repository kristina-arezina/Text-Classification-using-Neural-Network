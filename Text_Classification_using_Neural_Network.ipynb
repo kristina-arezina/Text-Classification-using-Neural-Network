{
  "nbformat": 4,
  "nbformat_minor": 0,
  "metadata": {
    "colab": {
      "name": "Text Classification using Neural Network.ipynb",
      "provenance": [],
      "mount_file_id": "1vbUb4boGkgMN1IwpOEVKizXzUY9r6m3t",
      "authorship_tag": "ABX9TyPm0AZszMTECM9CxsPuwm62",
      "include_colab_link": true
    },
    "kernelspec": {
      "name": "python3",
      "display_name": "Python 3"
    }
  },
  "cells": [
    {
      "cell_type": "markdown",
      "metadata": {
        "id": "view-in-github",
        "colab_type": "text"
      },
      "source": [
        "<a href=\"https://colab.research.google.com/github/kristina-arezina/Text-Classification-using-Neural-Network/blob/main/Text_Classification_using_Neural_Network.ipynb\" target=\"_parent\"><img src=\"https://colab.research.google.com/assets/colab-badge.svg\" alt=\"Open In Colab\"/></a>"
      ]
    },
    {
      "cell_type": "code",
      "metadata": {
        "id": "QdtOdZ5r5_QW"
      },
      "source": [
        "import pandas as pd\n",
        "import numpy as np\n",
        "\n",
        "from sklearn.model_selection import train_test_split\n",
        "from sklearn.preprocessing import LabelEncoder\n",
        "from sklearn.metrics import confusion_matrix, classification_report\n",
        "\n",
        "import matplotlib.pyplot as plt\n",
        "\n",
        "from keras.preprocessing.text import Tokenizer\n",
        "from keras.preprocessing.sequence import pad_sequences\n",
        "from keras.utils import np_utils\n",
        "from keras.models import Sequential\n",
        "from keras import layers\n",
        "from keras.wrappers.scikit_learn import KerasClassifier"
      ],
      "execution_count": null,
      "outputs": []
    },
    {
      "cell_type": "markdown",
      "metadata": {
        "id": "5xjq_8726CeM"
      },
      "source": [
        "# Data\n",
        "\n",
        "Download twitter data from Kaggle: https://www.kaggle.com/kazanova/sentiment140 "
      ]
    },
    {
      "cell_type": "markdown",
      "metadata": {
        "id": "EDobfhWh6EMx"
      },
      "source": [
        "**Context**\n",
        "\n",
        "This is the sentiment140 dataset. It contains 1,600,000 tweets extracted using the twitter api . The tweets have been annotated (0 = negative, 4 = positive) and they can be used to detect sentiment.\n",
        "\n",
        "**Content**\n",
        "\n",
        "It contains the following 6 fields: \n",
        "\n",
        "*   target: the polarity of the tweet (0 = negative, 4 = positive)\n",
        "*   ids: The id of the tweet ( 2087)\n",
        "*   date: the date of the tweet (Sat May 16 23:58:44 UTC 2009)\n",
        "*   flag: The query (lyx). If there is no query, then this value is NO_QUERY.\n",
        "*   user: the user that tweeted (robotickilldozr)\n",
        "* text: the text of the tweet (Lyx is cool)"
      ]
    },
    {
      "cell_type": "code",
      "metadata": {
        "id": "cO5KJO8e6EzV"
      },
      "source": [
        "df = pd.read_csv('/content/drive/My Drive/Colab-Notebooks/Dec-2020-Newsletter/tweet-data.csv',\n",
        "                 encoding='ISO-8859-1', \n",
        "                 names=[\n",
        "                        'target',\n",
        "                        'id',\n",
        "                        'date',\n",
        "                        'flag',\n",
        "                        'user',\n",
        "                        'text'\n",
        "                        ])"
      ],
      "execution_count": null,
      "outputs": []
    },
    {
      "cell_type": "code",
      "metadata": {
        "colab": {
          "base_uri": "https://localhost:8080/",
          "height": 204
        },
        "id": "rHPTxrgt6LH0",
        "outputId": "3ad9435b-4119-4ba7-da55-1998c716df46"
      },
      "source": [
        "df.head()"
      ],
      "execution_count": null,
      "outputs": [
        {
          "output_type": "execute_result",
          "data": {
            "text/html": [
              "<div>\n",
              "<style scoped>\n",
              "    .dataframe tbody tr th:only-of-type {\n",
              "        vertical-align: middle;\n",
              "    }\n",
              "\n",
              "    .dataframe tbody tr th {\n",
              "        vertical-align: top;\n",
              "    }\n",
              "\n",
              "    .dataframe thead th {\n",
              "        text-align: right;\n",
              "    }\n",
              "</style>\n",
              "<table border=\"1\" class=\"dataframe\">\n",
              "  <thead>\n",
              "    <tr style=\"text-align: right;\">\n",
              "      <th></th>\n",
              "      <th>target</th>\n",
              "      <th>id</th>\n",
              "      <th>date</th>\n",
              "      <th>flag</th>\n",
              "      <th>user</th>\n",
              "      <th>text</th>\n",
              "    </tr>\n",
              "  </thead>\n",
              "  <tbody>\n",
              "    <tr>\n",
              "      <th>0</th>\n",
              "      <td>0</td>\n",
              "      <td>1467810369</td>\n",
              "      <td>Mon Apr 06 22:19:45 PDT 2009</td>\n",
              "      <td>NO_QUERY</td>\n",
              "      <td>_TheSpecialOne_</td>\n",
              "      <td>@switchfoot http://twitpic.com/2y1zl - Awww, t...</td>\n",
              "    </tr>\n",
              "    <tr>\n",
              "      <th>1</th>\n",
              "      <td>0</td>\n",
              "      <td>1467810672</td>\n",
              "      <td>Mon Apr 06 22:19:49 PDT 2009</td>\n",
              "      <td>NO_QUERY</td>\n",
              "      <td>scotthamilton</td>\n",
              "      <td>is upset that he can't update his Facebook by ...</td>\n",
              "    </tr>\n",
              "    <tr>\n",
              "      <th>2</th>\n",
              "      <td>0</td>\n",
              "      <td>1467810917</td>\n",
              "      <td>Mon Apr 06 22:19:53 PDT 2009</td>\n",
              "      <td>NO_QUERY</td>\n",
              "      <td>mattycus</td>\n",
              "      <td>@Kenichan I dived many times for the ball. Man...</td>\n",
              "    </tr>\n",
              "    <tr>\n",
              "      <th>3</th>\n",
              "      <td>0</td>\n",
              "      <td>1467811184</td>\n",
              "      <td>Mon Apr 06 22:19:57 PDT 2009</td>\n",
              "      <td>NO_QUERY</td>\n",
              "      <td>ElleCTF</td>\n",
              "      <td>my whole body feels itchy and like its on fire</td>\n",
              "    </tr>\n",
              "    <tr>\n",
              "      <th>4</th>\n",
              "      <td>0</td>\n",
              "      <td>1467811193</td>\n",
              "      <td>Mon Apr 06 22:19:57 PDT 2009</td>\n",
              "      <td>NO_QUERY</td>\n",
              "      <td>Karoli</td>\n",
              "      <td>@nationwideclass no, it's not behaving at all....</td>\n",
              "    </tr>\n",
              "  </tbody>\n",
              "</table>\n",
              "</div>"
            ],
            "text/plain": [
              "   target  ...                                               text\n",
              "0       0  ...  @switchfoot http://twitpic.com/2y1zl - Awww, t...\n",
              "1       0  ...  is upset that he can't update his Facebook by ...\n",
              "2       0  ...  @Kenichan I dived many times for the ball. Man...\n",
              "3       0  ...    my whole body feels itchy and like its on fire \n",
              "4       0  ...  @nationwideclass no, it's not behaving at all....\n",
              "\n",
              "[5 rows x 6 columns]"
            ]
          },
          "metadata": {
            "tags": []
          },
          "execution_count": 5
        }
      ]
    },
    {
      "cell_type": "markdown",
      "metadata": {
        "id": "-hN9YSQ46NEJ"
      },
      "source": [
        "Two classes in the dataset"
      ]
    },
    {
      "cell_type": "code",
      "metadata": {
        "colab": {
          "base_uri": "https://localhost:8080/"
        },
        "id": "TNJ9OfKC6ORl",
        "outputId": "2786db4b-7c85-4b4d-9674-b42863f7cbe0"
      },
      "source": [
        "df.target.unique()"
      ],
      "execution_count": null,
      "outputs": [
        {
          "output_type": "execute_result",
          "data": {
            "text/plain": [
              "array([0, 4])"
            ]
          },
          "metadata": {
            "tags": []
          },
          "execution_count": 6
        }
      ]
    },
    {
      "cell_type": "markdown",
      "metadata": {
        "id": "oFIdgWFZ6P7n"
      },
      "source": [
        "Check how equally distributed those classes are."
      ]
    },
    {
      "cell_type": "code",
      "metadata": {
        "colab": {
          "base_uri": "https://localhost:8080/",
          "height": 265
        },
        "id": "4IcSNhbT6RYV",
        "outputId": "f219a247-f902-4ea0-d07b-b417f3d84b58"
      },
      "source": [
        "classes = df.target.unique()\n",
        "counts = []\n",
        "\n",
        "for i in classes:\n",
        "  count = len(df[df.target==i])\n",
        "  counts.append(count)\n",
        "\n",
        "plt.bar(['negative', 'positive'], counts)\n",
        "plt.show()"
      ],
      "execution_count": null,
      "outputs": [
        {
          "output_type": "display_data",
          "data": {
            "image/png": "[encoded data removed]",
            "text/plain": [
              "<Figure size 432x288 with 1 Axes>"
            ]
          },
          "metadata": {
            "tags": [],
            "needs_background": "light"
          }
        }
      ]
    },
    {
      "cell_type": "markdown",
      "metadata": {
        "id": "GMSVEsl16S8I"
      },
      "source": [
        "Even class distribution helps us a lot in text classifiction. Imagine a situation where 95% of data is in one class and the rest 5% is split among other 5 classes. If we wouldn't do anything about it model would just learn to guess the 95% class all the time and would be correct 95% of the time on the data we would use.\n",
        "\n",
        "To start modelling we still need to do a couple of things:\n",
        "\n",
        "\n",
        "1.   Split data into train and test datasets\n",
        "2.   Tokenize it\n",
        "3.   Pad the text\n",
        "4. Encode the labels\n",
        "\n",
        "# Train/test split\n",
        "We don't really need all 1.6 Million tweets for training so we can take a sample of 10% and then split taht into 80% for training and 20% for testing."
      ]
    },
    {
      "cell_type": "code",
      "metadata": {
        "id": "NhHAaMqp6W_1"
      },
      "source": [
        "sample_size = int(len(df)*0.1)\n",
        "sampleDf = df.sample(sample_size, random_state=23)\n",
        "x = sampleDf.text.values\n",
        "y = sampleDf.target.values\n",
        "x_train, x_test, y_train, y_test = train_test_split(x, y, test_size=0.20, random_state=32)"
      ],
      "execution_count": null,
      "outputs": []
    },
    {
      "cell_type": "markdown",
      "metadata": {
        "id": "qDsnqrsj6YhJ"
      },
      "source": [
        "# Tokenization\n",
        "What we need to do now is to tokenize text (essentialy turning words into tokens). The difference from vectorization that we used in Linear Regression notebook is that we do not count each token occurence in the text. Instead we just turn words into tokens and that's about it. Comparing this to Logistic Regression (LR) example you'll see that in this method we keep the order of the words intact, while, in the LR example we loose that information."
      ]
    },
    {
      "cell_type": "code",
      "metadata": {
        "id": "JG0XuH466Z1O"
      },
      "source": [
        "tokenizer = Tokenizer()\n",
        "tokenizer.fit_on_texts(x_train)\n",
        "\n",
        "X_train = tokenizer.texts_to_sequences(x_train)\n",
        "X_test = tokenizer.texts_to_sequences(x_test)\n",
        "\n",
        "vocab_size = len(tokenizer.word_index) + 1  # Adding 1 because of reserved 0 index"
      ],
      "execution_count": null,
      "outputs": []
    },
    {
      "cell_type": "markdown",
      "metadata": {
        "id": "-t97VstW6cLD"
      },
      "source": [
        "Our tokenized dataset will essentially consist of index of each word that is used in training dataset. We can check how it looks by simply printing the first tweet both as it was and after tokenization."
      ]
    },
    {
      "cell_type": "code",
      "metadata": {
        "colab": {
          "base_uri": "https://localhost:8080/"
        },
        "id": "7936wO326diT",
        "outputId": "15a6493b-4f78-462c-83ef-9602fc69b976"
      },
      "source": [
        "print(x_train[0])\n",
        "print(X_train[0])"
      ],
      "execution_count": null,
      "outputs": [
        {
          "output_type": "stream",
          "text": [
            "@teefy1983 aww my poor mexican!!! He no feel good at all \n",
            "[33672, 361, 5, 351, 3268, 113, 37, 110, 28, 23, 31]\n"
          ],
          "name": "stdout"
        }
      ]
    },
    {
      "cell_type": "markdown",
      "metadata": {
        "id": "0ZCiulie6fHl"
      },
      "source": [
        "# Padding\n",
        "Before modelling we want to make sure our inputs are the same size, since we are using neural network with a fixed input size. \\\\\n",
        "First we figure out the max len."
      ]
    },
    {
      "cell_type": "code",
      "metadata": {
        "colab": {
          "base_uri": "https://localhost:8080/"
        },
        "id": "CnRN0yMp6gfF",
        "outputId": "b56185d9-3519-4073-d331-4b1fb5585214"
      },
      "source": [
        "lens_train = [len(i) for i in X_train]\n",
        "lens_test = [len(i) for i in X_test]\n",
        "lens = lens_train + lens_test\n",
        "\n",
        "maxlen = np.max(lens)\n",
        "\n",
        "print('Max len:', maxlen)"
      ],
      "execution_count": null,
      "outputs": [
        {
          "output_type": "stream",
          "text": [
            "Max len: 118\n"
          ],
          "name": "stdout"
        }
      ]
    },
    {
      "cell_type": "markdown",
      "metadata": {
        "id": "K8ILcuz06h5G"
      },
      "source": [
        "Then we pad our inputs to fit that size."
      ]
    },
    {
      "cell_type": "code",
      "metadata": {
        "id": "yziCotVB6jOI"
      },
      "source": [
        "X_train = pad_sequences(X_train, padding='post', maxlen=maxlen)\n",
        "X_test = pad_sequences(X_test, padding='post', maxlen=maxlen)"
      ],
      "execution_count": null,
      "outputs": []
    },
    {
      "cell_type": "markdown",
      "metadata": {
        "id": "O0s3qIDp6ktD"
      },
      "source": [
        "# Label Encoding\n",
        "We could get away with other approach but you might want to use this for more than binary classification."
      ]
    },
    {
      "cell_type": "code",
      "metadata": {
        "id": "BtXRhFLk6l1N"
      },
      "source": [
        "encoder = LabelEncoder()\n",
        "encoder.fit(y)\n",
        "encoded_Y_test = encoder.transform(y_test)\n",
        "encoded_Y_train = encoder.transform(y_train)\n",
        "\n",
        "# convert integers to dummy variables (i.e. one hot encoded)\n",
        "dummy_y_test = np_utils.to_categorical(encoded_Y_test)\n",
        "dummy_y_train = np_utils.to_categorical(encoded_Y_train)"
      ],
      "execution_count": null,
      "outputs": []
    },
    {
      "cell_type": "markdown",
      "metadata": {
        "id": "dYIcksV76nHi"
      },
      "source": [
        "# Modelling\n",
        "The model that we use here is a simple Neural Network. I'll add some comments to explain what each line does."
      ]
    },
    {
      "cell_type": "code",
      "metadata": {
        "colab": {
          "base_uri": "https://localhost:8080/"
        },
        "id": "nPtqx58Y6oag",
        "outputId": "c04c4f0a-b0ed-418c-ec18-f0df5e9d69cf"
      },
      "source": [
        "embedding_dim = 100  # vector representation of words/neuron amount after the input https://datascience.stackexchange.com/questions/53995/what-does-embedding-mean-in-machine-learning#:~:text=In%20the%20context%20of%20machine,with%20other%20models%20as%20well.\n",
        "\n",
        "model = Sequential()  # initiates the model\n",
        "model.add(layers.Embedding(input_dim=vocab_size,  # adds the first [input] layer which will be our tokenized tweets\n",
        "                          output_dim=embedding_dim,  # the embedding of that tweet, essentially inputs output\n",
        "                          input_length=maxlen))  # size of the input layer determined by maxlen calculated before\n",
        "model.add(layers.Dropout(0.2))  # dorpouts are added to help with overtraining, essentially \"turns off\" said amount of neurons before giving information to the next layer\n",
        "model.add(layers.GlobalMaxPool1D())  # https://computersciencewiki.org/index.php/Max-pooling_/_Pooling\n",
        "model.add(layers.Dropout(0.2))\n",
        "model.add(layers.Dense(50, activation='relu'))  # additional hidden layer\n",
        "model.add(layers.Dropout(0.2))\n",
        "model.add(layers.Dense(50, activation='relu'))\n",
        "model.add(layers.Dropout(0.2))\n",
        "model.add(layers.Dense(2, activation='softmax'))  # prediction layer, 2 is the number of classes we have\n",
        "model.compile(optimizer='adam',\n",
        "              loss='categorical_crossentropy',\n",
        "              metrics=['accuracy'])\n",
        "model.summary()"
      ],
      "execution_count": null,
      "outputs": [
        {
          "output_type": "stream",
          "text": [
            "Model: \"sequential\"\n",
            "_________________________________________________________________\n",
            "Layer (type)                 Output Shape              Param #   \n",
            "=================================================================\n",
            "embedding (Embedding)        (None, 118, 100)          11789900  \n",
            "_________________________________________________________________\n",
            "dropout (Dropout)            (None, 118, 100)          0         \n",
            "_________________________________________________________________\n",
            "global_max_pooling1d (Global (None, 100)               0         \n",
            "_________________________________________________________________\n",
            "dropout_1 (Dropout)          (None, 100)               0         \n",
            "_________________________________________________________________\n",
            "dense (Dense)                (None, 50)                5050      \n",
            "_________________________________________________________________\n",
            "dropout_2 (Dropout)          (None, 50)                0         \n",
            "_________________________________________________________________\n",
            "dense_1 (Dense)              (None, 50)                2550      \n",
            "_________________________________________________________________\n",
            "dropout_3 (Dropout)          (None, 50)                0         \n",
            "_________________________________________________________________\n",
            "dense_2 (Dense)              (None, 2)                 102       \n",
            "=================================================================\n",
            "Total params: 11,797,602\n",
            "Trainable params: 11,797,602\n",
            "Non-trainable params: 0\n",
            "_________________________________________________________________\n"
          ],
          "name": "stdout"
        }
      ]
    },
    {
      "cell_type": "markdown",
      "metadata": {
        "id": "6gpzTjME6qOz"
      },
      "source": [
        "So we have our model. All we need now is to train it."
      ]
    },
    {
      "cell_type": "code",
      "metadata": {
        "colab": {
          "base_uri": "https://localhost:8080/"
        },
        "id": "iwbfwNmh6rls",
        "outputId": "b2df48bc-ae6d-475e-c339-e1d1da5ae29f"
      },
      "source": [
        "history = model.fit(X_train, dummy_y_train,\n",
        "                    epochs=3,  # times model will run through the data\n",
        "                    verbose=True,\n",
        "                    validation_data=(X_test, dummy_y_test),\n",
        "                    batch_size=128)  # data is set to batches we are sent to the model to predict, imagine each batc as a step in which model tries to predict the class and then checks the right answer and corrects it's weights with backpropogation\n",
        "loss, accuracy = model.evaluate(X_train, dummy_y_train, verbose=False)\n",
        "print(\"Training Accuracy: {:.4f}\".format(accuracy))\n",
        "loss, accuracy = model.evaluate(X_test, dummy_y_test, verbose=False)\n",
        "print(\"Testing Accuracy:  {:.4f}\".format(accuracy))"
      ],
      "execution_count": null,
      "outputs": [
        {
          "output_type": "stream",
          "text": [
            "Epoch 1/3\n",
            "1000/1000 [==============================] - 83s 83ms/step - loss: 0.5780 - accuracy: 0.6761 - val_loss: 0.4514 - val_accuracy: 0.7921\n",
            "Epoch 2/3\n",
            "1000/1000 [==============================] - 82s 82ms/step - loss: 0.4016 - accuracy: 0.8175 - val_loss: 0.4436 - val_accuracy: 0.7936\n",
            "Epoch 3/3\n",
            "1000/1000 [==============================] - 83s 83ms/step - loss: 0.3246 - accuracy: 0.8575 - val_loss: 0.4692 - val_accuracy: 0.7846\n",
            "Training Accuracy: 0.9092\n",
            "Testing Accuracy:  0.7846\n"
          ],
          "name": "stdout"
        }
      ]
    },
    {
      "cell_type": "markdown",
      "metadata": {
        "id": "BvXimgYh6tOg"
      },
      "source": [
        "Let's have a nice plot of our training process."
      ]
    },
    {
      "cell_type": "code",
      "metadata": {
        "id": "SJ2XrM_w6u6O"
      },
      "source": [
        "plt.style.use('ggplot')\n",
        "\n",
        "def plot_history(history):\n",
        "    acc = history.history['accuracy']\n",
        "    val_acc = history.history['val_accuracy']\n",
        "    loss = history.history['loss']\n",
        "    val_loss = history.history['val_loss']\n",
        "    x = range(1, len(acc) + 1)\n",
        "\n",
        "    plt.figure(figsize=(12, 5))\n",
        "    plt.subplot(1, 2, 1)\n",
        "    plt.plot(x, acc, 'b', label='Training acc')\n",
        "    plt.plot(x, val_acc, 'r', label='Validation acc')\n",
        "    plt.title('Training and validation accuracy')\n",
        "    plt.legend()\n",
        "    plt.subplot(1, 2, 2)\n",
        "    plt.plot(x, loss, 'b', label='Training loss')\n",
        "    plt.plot(x, val_loss, 'r', label='Validation loss')\n",
        "    plt.title('Training and validation loss')\n",
        "    plt.legend()"
      ],
      "execution_count": null,
      "outputs": []
    },
    {
      "cell_type": "code",
      "metadata": {
        "colab": {
          "base_uri": "https://localhost:8080/",
          "height": 54
        },
        "id": "62ZP5HOi6wV4",
        "outputId": "e0b3366d-288a-401f-fd9f-9de4210d3738"
      },
      "source": [
        "plot_history(history)"
      ],
      "execution_count": null,
      "outputs": [
        {
          "output_type": "display_data",
          "data": {
            "image/png": "[encoded data removed]",
            "text/plain": [
              "<Figure size 864x360 with 2 Axes>"
            ]
          },
          "metadata": {
            "tags": []
          }
        }
      ]
    },
    {
      "cell_type": "markdown",
      "metadata": {
        "id": "uvY_l-7n6ymO"
      },
      "source": [
        "So there's a couple of interesting things we can see here. Ussually you would see train and validation accuracy both increase over time. Essentially the point where training crosses validation you would want to stop training as it means that model is starting to remember exact things instead of learning patterns, which here is at 2nd epoch. Another thing to take into account is that validation accuracy decreases quite singnificantly over time, instead of growing. Why? Well we have quite a lot of data, so it might very well be that it's enough to have 2 epochs to fully train it before changing learning rate. Essentially, what this shows is that model is rapidly overtraining. If we would remove the dropout layers in the model see ```model.add(layers.Dropout(0.2))``` under [Modeling](#Modelling).\n",
        "\n",
        "**Essentially model is prone to overtrain**\n",
        "\n",
        "# Confussion matrix\n",
        "Before jumping into other models it's always good to check how our model performs in different classes. For that we can use confussion matrix.\n",
        "\n",
        "It essentially shows how many times model predicted which class and how many of those times the class it slected was the right one. Here columns are true values and lines are predicted values.\n",
        "\n",
        "So here we need to do it a bit differently from the way we did it in the Logistic Regression notebook. We have encoded our classses using encoder. Here are those classes."
      ]
    },
    {
      "cell_type": "code",
      "metadata": {
        "colab": {
          "base_uri": "https://localhost:8080/"
        },
        "id": "-MMWXBeL63Cq",
        "outputId": "5fecfdff-51fb-4f25-bf77-a81e702682e6"
      },
      "source": [
        "encoder.classes_"
      ],
      "execution_count": null,
      "outputs": [
        {
          "output_type": "execute_result",
          "data": {
            "text/plain": [
              "array([0, 4])"
            ]
          },
          "metadata": {
            "tags": []
          },
          "execution_count": 18
        }
      ]
    },
    {
      "cell_type": "markdown",
      "metadata": {
        "id": "Wcc2m5Lj64bv"
      },
      "source": [
        "And our predictions are stored as arrays with probabilities fir each class."
      ]
    },
    {
      "cell_type": "code",
      "metadata": {
        "colab": {
          "base_uri": "https://localhost:8080/"
        },
        "id": "sLHldrPu65oU",
        "outputId": "95cadac0-aa34-4552-e06f-52c874dac7cb"
      },
      "source": [
        "y_pred = model.predict(X_test)\n",
        "y_pred"
      ],
      "execution_count": null,
      "outputs": [
        {
          "output_type": "execute_result",
          "data": {
            "text/plain": [
              "array([[9.9938953e-01, 6.1048294e-04],\n",
              "       [2.4718824e-03, 9.9752814e-01],\n",
              "       [6.0995501e-01, 3.9004493e-01],\n",
              "       ...,\n",
              "       [7.6248258e-01, 2.3751740e-01],\n",
              "       [2.1706244e-01, 7.8293753e-01],\n",
              "       [3.0216521e-01, 6.9783473e-01]], dtype=float32)"
            ]
          },
          "metadata": {
            "tags": []
          },
          "execution_count": 19
        }
      ]
    },
    {
      "cell_type": "markdown",
      "metadata": {
        "id": "Ao_eUSjK67YH"
      },
      "source": [
        "Here you can see that we have array of arrays of 2 probabilities for each class. So we need to turn those into classes."
      ]
    },
    {
      "cell_type": "code",
      "metadata": {
        "colab": {
          "base_uri": "https://localhost:8080/",
          "height": 131
        },
        "id": "YMDV7dHz68sj",
        "outputId": "29e6e777-6f2d-49ee-99e8-66676d4b1a64"
      },
      "source": [
        "y_predDecoded = [encoder.classes_[np.argmax(i)] for i in y_pred]  # here we get the max probability from those arrays and then based on that select which class is it.\n",
        "cm = confusion_matrix(y_test, y_predDecoded, labels=df.target.unique())  # same confusion matrix code as in Logistic Regression\n",
        "df_cm = pd.DataFrame(cm, index=df.target.unique(), columns=df.target.unique())\n",
        "df_cm"
      ],
      "execution_count": null,
      "outputs": [
        {
          "output_type": "execute_result",
          "data": {
            "text/html": [
              "<div>\n",
              "<style scoped>\n",
              "    .dataframe tbody tr th:only-of-type {\n",
              "        vertical-align: middle;\n",
              "    }\n",
              "\n",
              "    .dataframe tbody tr th {\n",
              "        vertical-align: top;\n",
              "    }\n",
              "\n",
              "    .dataframe thead th {\n",
              "        text-align: right;\n",
              "    }\n",
              "</style>\n",
              "<table border=\"1\" class=\"dataframe\">\n",
              "  <thead>\n",
              "    <tr style=\"text-align: right;\">\n",
              "      <th></th>\n",
              "      <th>0</th>\n",
              "      <th>4</th>\n",
              "    </tr>\n",
              "  </thead>\n",
              "  <tbody>\n",
              "    <tr>\n",
              "      <th>0</th>\n",
              "      <td>12272</td>\n",
              "      <td>3740</td>\n",
              "    </tr>\n",
              "    <tr>\n",
              "      <th>4</th>\n",
              "      <td>3152</td>\n",
              "      <td>12836</td>\n",
              "    </tr>\n",
              "  </tbody>\n",
              "</table>\n",
              "</div>"
            ],
            "text/plain": [
              "       0      4\n",
              "0  12272   3740\n",
              "4   3152  12836"
            ]
          },
          "metadata": {
            "tags": []
          },
          "execution_count": 20
        }
      ]
    },
    {
      "cell_type": "markdown",
      "metadata": {
        "id": "rzEAaYYl6-IP"
      },
      "source": [
        "For a better understanding you could use percentage expression."
      ]
    },
    {
      "cell_type": "code",
      "metadata": {
        "colab": {
          "base_uri": "https://localhost:8080/",
          "height": 111
        },
        "id": "hWY3jBwr7AAx",
        "outputId": "7d60922e-3612-440c-85ac-6212cab88e70"
      },
      "source": [
        "df_cm_percentage = df_cm.copy()\n",
        "for i in df_cm_percentage:\n",
        "  df_cm_percentage[i]/=df_cm_percentage[i].sum()\n",
        "\n",
        "df_cm_percentage"
      ],
      "execution_count": null,
      "outputs": [
        {
          "output_type": "execute_result",
          "data": {
            "text/html": [
              "<div>\n",
              "<style scoped>\n",
              "    .dataframe tbody tr th:only-of-type {\n",
              "        vertical-align: middle;\n",
              "    }\n",
              "\n",
              "    .dataframe tbody tr th {\n",
              "        vertical-align: top;\n",
              "    }\n",
              "\n",
              "    .dataframe thead th {\n",
              "        text-align: right;\n",
              "    }\n",
              "</style>\n",
              "<table border=\"1\" class=\"dataframe\">\n",
              "  <thead>\n",
              "    <tr style=\"text-align: right;\">\n",
              "      <th></th>\n",
              "      <th>0</th>\n",
              "      <th>4</th>\n",
              "    </tr>\n",
              "  </thead>\n",
              "  <tbody>\n",
              "    <tr>\n",
              "      <th>0</th>\n",
              "      <td>0.795643</td>\n",
              "      <td>0.225627</td>\n",
              "    </tr>\n",
              "    <tr>\n",
              "      <th>4</th>\n",
              "      <td>0.204357</td>\n",
              "      <td>0.774373</td>\n",
              "    </tr>\n",
              "  </tbody>\n",
              "</table>\n",
              "</div>"
            ],
            "text/plain": [
              "          0         4\n",
              "0  0.795643  0.225627\n",
              "4  0.204357  0.774373"
            ]
          },
          "metadata": {
            "tags": []
          },
          "execution_count": 21
        }
      ]
    },
    {
      "cell_type": "markdown",
      "metadata": {
        "id": "nCU5izB07Bwr"
      },
      "source": [
        "Good, so in the end model learnt to classify both classes about the same. Even though we are using a simple and really overtrained by epoch 10 Neural Network as another base measure to check if the problem is solvable and what results we might expect some insights can be derived here (some the same as LR):\n",
        "\n",
        "Classes are evenly distributed, thus we won't overtrain on one class compared to the other and here we overtrain equally on both :D\n",
        "Neural Network before overtraining and with no learning rate adjustments achieved 80% accuracy, meaning we should be able to get a slightly better result adjusting learning rate and a much better result using language models such as BERT\n",
        "Both classes are predicted equally well\n",
        "\n",
        "# Test\n",
        "\n",
        "Now we need to check if it actually works. Let's just copy a comment in one of Naval's tweets.\n",
        "\n",
        "The comment is: You can’t move a trust-network any more than you can transplant a forest."
      ]
    },
    {
      "cell_type": "code",
      "metadata": {
        "colab": {
          "base_uri": "https://localhost:8080/"
        },
        "id": "QejUJr0X7bGI",
        "outputId": "b3e76cb9-c99d-44c6-a6bb-556f8d87be95"
      },
      "source": [
        "tweet = 'You can’t move a trust-network any more than you can transplant a forest.'\n",
        "vectTweet = tokenizer.texts_to_sequences(np.array([tweet]))  # vectorizes the tweet using our vectorizer\n",
        "vectTweet = pad_sequences(vectTweet, padding='post', maxlen=maxlen)  # adds padding\n",
        "\n",
        "prediction = model.predict(vectTweet)  # predicts class of the tweet\n",
        "print('Tweet is', 'positive' if encoder.classes_[np.argmax(prediction)]==4 else 'negative')"
      ],
      "execution_count": null,
      "outputs": [
        {
          "output_type": "stream",
          "text": [
            "Tweet is positive\n"
          ],
          "name": "stdout"
        }
      ]
    },
    {
      "cell_type": "markdown",
      "metadata": {
        "id": "srFUhuPF7iqS"
      },
      "source": [
        "Let's just make sure our model works okay with very specific sentiments."
      ]
    },
    {
      "cell_type": "code",
      "metadata": {
        "colab": {
          "base_uri": "https://localhost:8080/"
        },
        "id": "a6eajJhq7j5b",
        "outputId": "c5baf5dd-efed-4803-ecbb-02c022bd1c84"
      },
      "source": [
        "tweetList = ['Best tweet ever!', 'Mondays are the worst...']\n",
        "vectTweet = tokenizer.texts_to_sequences(np.array(tweetList))  # vectorizes the tweet using our vectorizer\n",
        "vectTweet = pad_sequences(vectTweet, padding='post', maxlen=maxlen)  # adds padding\n",
        "\n",
        "prediction = model.predict(vectTweet)  # predicts class of the tweet\n",
        "for enum, i in enumerate(tweetList):\n",
        "  print(i, '| This tweet is', 'positive' if encoder.classes_[np.argmax(prediction[enum])]==4 else 'negative')"
      ],
      "execution_count": null,
      "outputs": [
        {
          "output_type": "stream",
          "text": [
            "Best tweet ever! | This tweet is positive\n",
            "Mondays are the worst... | This tweet is negative\n"
          ],
          "name": "stdout"
        }
      ]
    }
  ]
}